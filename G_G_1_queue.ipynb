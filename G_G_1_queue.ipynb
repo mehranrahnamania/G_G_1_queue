{
  "nbformat": 4,
  "nbformat_minor": 0,
  "metadata": {
    "colab": {
      "provenance": []
    },
    "kernelspec": {
      "name": "python3",
      "display_name": "Python 3"
    },
    "language_info": {
      "name": "python"
    }
  },
  "cells": [
    {
      "cell_type": "code",
      "source": [
        "import random\n",
        "\n",
        "#G/G/1 queue\n",
        "class analyzer:\n",
        "    def __init__(self, G_arrival, G_service, stop=10**5, size=float('inf')):\n",
        "        self.size = size\n",
        "        self.G_arrival = G_arrival\n",
        "        self.G_service = G_service\n",
        "        self.stop = stop\n",
        "\n",
        "    def run(self, lambda_, mu):\n",
        "        wait = []\n",
        "        service_times = []\n",
        "        number, b = 0, 1\n",
        "\n",
        "        for n in range(self.stop):\n",
        "            service_times.append(self.G_service(mu))\n",
        "\n",
        "        for i, service in enumerate(service_times):\n",
        "            x = 0\n",
        "\n",
        "            if number == 0 and len(wait) < self.stop:\n",
        "                number += 1\n",
        "                wait.append(0)\n",
        "\n",
        "\n",
        "            elif number > 1:\n",
        "                for j in range(2, number+1):\n",
        "                    wait[-j] += service\n",
        "\n",
        "            while service > x and len(wait) < self.stop:\n",
        "                x += self.G_arrival(lambda_)\n",
        "\n",
        "                if service > x and len(wait) < self.stop and number < self.size:\n",
        "                    wait.append(service - x)\n",
        "                    number += 1\n",
        "\n",
        "            number += -1\n",
        "\n",
        "        return wait, service_times"
      ],
      "metadata": {
        "id": "otBVtrnzOghs"
      },
      "execution_count": null,
      "outputs": []
    },
    {
      "cell_type": "markdown",
      "source": [],
      "metadata": {
        "id": "FRHVsy75pLzo"
      }
    },
    {
      "cell_type": "code",
      "source": [
        "stop = 10**7\n",
        "queue = analyzer(random.expovariate, random.expovariate, stop)"
      ],
      "metadata": {
        "id": "auYet_yzUSNX"
      },
      "execution_count": null,
      "outputs": []
    },
    {
      "cell_type": "code",
      "source": [
        "waits, services= queue.run(4, 5)\n",
        "\n",
        "w = waits.copy()\n",
        "w.reverse()\n",
        "end = stop - w.index(0)\n",
        "\n",
        "\n",
        "average_waiting_time = sum(waits[1000:end])/len(waits[1000:end])\n",
        "average_respons_time = sum(waits[1000:end]+services[1000:end])/len(services[1000:end])\n",
        "\n",
        "print('average waiting time = ', average_waiting_time)\n",
        "print('average respons time = ', average_respons_time)"
      ],
      "metadata": {
        "id": "ms3cuE_exJjr",
        "colab": {
          "base_uri": "https://localhost:8080/"
        },
        "outputId": "517bf5e8-b677-425c-cecf-ab9c4237e43a"
      },
      "execution_count": null,
      "outputs": [
        {
          "output_type": "stream",
          "name": "stdout",
          "text": [
            "average waiting time =  0.799670238916817\n",
            "average respons time =  0.9996007774953942\n"
          ]
        }
      ]
    },
    {
      "cell_type": "code",
      "source": [
        "#sampel of distribution function\n",
        "\n",
        "def erlang_2(mu):\n",
        "    x = random.expovariate(2*mu)\n",
        "    y = random.expovariate(2*mu)\n",
        "    return x + y"
      ],
      "metadata": {
        "id": "68Gh2lwD5kbP"
      },
      "execution_count": null,
      "outputs": []
    }
  ]
}